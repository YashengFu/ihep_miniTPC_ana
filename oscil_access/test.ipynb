{
 "cells": [
  {
   "cell_type": "code",
   "execution_count": null,
   "metadata": {},
   "outputs": [],
   "source": [
    "# data_room = pd.read_csv(\"/dybfs2/nEXO/fuys/data/aslc_data/1-1-3Hall-new-2layer/C3room-T-240101-3hall00000.csv\",usecols=[\"Ampl\"]) # mv\n",
    "# data_room = pd.read_csv(\"/dybfs2/nEXO/fuys/data/aslc_data/1-2-3Hall-new-2layer/C3room-T-240102-3hall00000.csv\",usecols=[\"Ampl\"]) # mv\n",
    "\n",
    "# data_zero = pd.read_csv(\"/dybfs2/nEXO/fuys/data/aslc_data/1-2-3Hall-new-2layer/C3neg0-T-240102-3hall00000.csv\",usecols=[\"Ampl\"]) # mv\n",
    "# data_neg30 = pd.read_csv(\"/dybfs2/nEXO/fuys/data/aslc_data/1-2-3Hall-new-2layer/C3neg30-T-240102-3hall00000.csv\",usecols=[\"Ampl\"]) # mv\n",
    "# data_neg60 = pd.read_csv(\"/dybfs2/nEXO/fuys/data/aslc_data/1-2-3Hall-new-2layer/C3neg60-T-240102-3hall00000.csv\",usecols=[\"Ampl\"]) # mv\n",
    "\n",
    "# data_neg90 = pd.read_csv(\"/dybfs2/nEXO/fuys/data/aslc_data/1-2-3Hall-new-2layer/C3neg90-T-240102-3hall00000.csv\",usecols=[\"Ampl\"]) # mv\n",
    "# data_neg104 = pd.read_csv(\"/dybfs2/nEXO/fuys/data/aslc_data/1-2-3Hall-new-2layer/C3neg104-T-240102-3hall00000.csv\",usecols=[\"Ampl\"]) # mv"
   ]
  },
  {
   "cell_type": "code",
   "execution_count": null,
   "metadata": {},
   "outputs": [],
   "source": [
    "\n",
    "# cut_point = 16000#  room T\n",
    "#cut_point = 32000#  106 T\n",
    "# cut_point = 16000#  30 T\n",
    "# cut_point = 16000#  zero T\n",
    "# cut_point = 17000#  60 T\n",
    "# cut_point = 32000#  90 T\n",
    "\n",
    "\n",
    "# display_point = 8600\n",
    "# sam_sel_points = 200\n",
    "# chan_n = 1\n",
    "# sel_data_room = data_room[16000+display_point:16000+display_point+(sam_sel_points*chan_n)]\n",
    "# sel_data_zero = data_zero[16000+display_point:16000+display_point+(sam_sel_points*chan_n)]\n",
    "# sel_data_neg30 = data_neg30[16000+display_point:16000+display_point+(sam_sel_points*chan_n)]\n",
    "# sel_data_neg106 = data_neg106[32000+display_point:32000+display_point+(sam_sel_points*chan_n)]\n",
    "\n",
    "\n",
    "# fig, ax = plt.subplots(nrows=2,figsize=(20, 20))\n",
    "# # ax.plot(sel_data['Time'], sel_data['Ampl'],'.')\n",
    "# offset =20\n",
    "# ax[0].plot(np.arange(len(sel_data_room['Ampl'])),sel_data_room['Ampl'] - np.mean(sel_data_room['Ampl']),'.r-',label=\"room T %0.2f\"%np.std(sel_data_room))\n",
    "# ax[0].plot(np.arange(len(sel_data_room['Ampl'])),sel_data_zero['Ampl']- np.mean(sel_data_zero['Ampl'])+offset,'.b-',label=\"0 degree %0.2f\"%np.std(sel_data_zero))\n",
    "# ax[0].plot(np.arange(len(sel_data_room['Ampl'])),sel_data_neg30['Ampl']- np.mean(sel_data_neg30['Ampl'])+offset*2,'.c-',label=\"-30 degree %0.2f\"%np.std(sel_data_neg30))\n",
    "# ax[0].plot(np.arange(len(sel_data_room['Ampl'])),sel_data_neg106['Ampl']- np.mean(sel_data_neg106['Ampl'])+offset*3,'.m-',label=\"-106 degree %0.2f\"%np.std(sel_data_neg106))\n",
    "\n",
    "# ax[0].legend()\n",
    "# ax[1].legend()\n",
    "# plt.tight_layout()\n",
    "# # ax2.plot(sel_data['Time'],'.r')"
   ]
  }
 ],
 "metadata": {
  "language_info": {
   "name": "python"
  }
 },
 "nbformat": 4,
 "nbformat_minor": 2
}
