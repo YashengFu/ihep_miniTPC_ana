{
 "cells": [
  {
   "cell_type": "code",
   "execution_count": null,
   "metadata": {},
   "outputs": [
    {
     "ename": "",
     "evalue": "",
     "output_type": "error",
     "traceback": [
      "\u001b[1;31m无法启动 Kernel。 \n",
      "\u001b[1;31mFailed to start the Kernel 'cpu_root (Python 3.7.10)'. \n",
      "\u001b[1;31mView Jupyter <a href='command:jupyter.viewOutput'>log</a> for further details. EACCES: permission denied, open '/afs/ihep.ac.cn/users/f/fuys/.local/share/jupyter/runtime/kernel-v2-18567GMcq6WpyG4qJ.json'"
     ]
    }
   ],
   "source": [
    "import numpy as np\n",
    "import os\n",
    "\n",
    "# 设置线程数限制为 100\n",
    "os.environ['ULIMIT'] = '100'\n",
    "\n",
    "\n",
    "file_path = \"/dybfs2/nEXO/fuys/data/miniTPC_data/from_miao/test_20230830_104914.dat\""
   ]
  },
  {
   "cell_type": "code",
   "execution_count": 16,
   "metadata": {
    "scrolled": false
   },
   "outputs": [
    {
     "name": "stdout",
     "output_type": "stream",
     "text": [
      "1000000 Number of data points\n",
      "[    70125 -16624592    107249    136124    103124    103125    103124\n",
      "    103124    103124    107289    103085    107249    103124    111374\n",
      "    103125     98999    103124    107249     99000    874493    107250\n",
      "    103124    103124    103124    928119    111374     98999    144374\n",
      "    131999    107249    111374    107250    107249     94913    107210\n",
      "    103125    103124    107249    107249     99000    103124    107249\n",
      "    103243    103006    103124    103124    103124    107250    123749\n",
      "    115499    107249    111374    111374    111375    103124    103130\n",
      "    103118    103125    107249    111374     98999    107250    107249\n",
      "    111374     98999    103125    103152    111346     98999    103124\n",
      "    107250    103124    103124    103124    103125    103124    103124\n",
      "    107249    107250    103124    103124    107249     99000    111374\n",
      "    103124     98999    107250     98999    107249    103124    103163\n",
      "    103086    103124    107249    103125    103124    107249    103124\n",
      "    103125    103124    103124    103124    107250    103124    107249\n",
      "    119624    103124    127874    107250    103124    103124     98999\n",
      "    107250    103124    103124    107249    107250    103124    103124\n",
      "    103124    103125    103124    103124    107249    111375    103124\n",
      "    107249    107249    103124    107250     98999    103124    111374\n",
      "    103125    107249    103124    103124    111375    107249     98999\n",
      "    103147    107227    103124    103203 -16674171    107250    107249\n",
      "     98999    107249     99000    107249    103124    103124    103125\n",
      "    115499     99033    103090    107249     99000    107249    103124\n",
      "    107249]\n"
     ]
    }
   ],
   "source": [
    "with open(file_path, 'rb') as file:\n",
    "    # 读取头部（128字节）\n",
    "    # header = file.read(16)\n",
    "    # print(header)\n",
    "\n",
    "    # 读取数据块\n",
    "    data_blocks = []\n",
    "    count = 0\n",
    "    head_list = []\n",
    "    while count<1e6:\n",
    "#             print(count)\n",
    "            hex_data = file.read(12)  # 假设每个数据块占用16字节\n",
    "            hex_useless = file.read(1)  # 假设每个数据块占用16字节\n",
    "            hex_head = file.read(3)  # 假设每个数据块占用16字节\n",
    "            if not hex_data:\n",
    "                break\n",
    "            # 将数据按每两个字符分割，并将其转换为十进制\n",
    "            all_data = [int(byte) * 256 + int(hex_data[i+1]) for i, byte in enumerate(hex_data) if i % 2 == 0]\n",
    "            \n",
    "            if all_data[0] == 32858: \n",
    "                decimal_data = int(hex_head[0]) * 256*256 + int(hex_head[1]*256) + int(hex_head[2]) \n",
    "                head_list.append(decimal_data)\n",
    "            data_blocks.append(decimal_data)\n",
    "            count+=1\n",
    "\n",
    "\n",
    "    # 读取尾部（128字节）\n",
    "    footer = file.read(16)\n",
    "print(count,\"Number of data points\")\n",
    "# 将数据按斜杠分割\n",
    "# 遍历每个分割后的部分，将其转换为十进制\n",
    "data_array = np.array(data_blocks)\n",
    "# 保存NumPy数组到文件\n",
    "np.save('./data/data_array_test.npy', data_array)\n",
    "diff = np.array(head_list[1:]) - np.array(head_list[:-1])\n",
    "print(diff)\n",
    "# print(data_array)"
   ]
  },
  {
   "cell_type": "code",
   "execution_count": null,
   "metadata": {},
   "outputs": [],
   "source": []
  }
 ],
 "metadata": {
  "kernelspec": {
   "display_name": "Python 3",
   "language": "python",
   "name": "python3"
  },
  "language_info": {
   "codemirror_mode": {
    "name": "ipython",
    "version": 3
   },
   "file_extension": ".py",
   "mimetype": "text/x-python",
   "name": "python",
   "nbconvert_exporter": "python",
   "pygments_lexer": "ipython3",
   "version": "3.7.12"
  }
 },
 "nbformat": 4,
 "nbformat_minor": 2
}
